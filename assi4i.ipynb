{
 "cells": [
  {
   "cell_type": "markdown",
   "id": "5e117661-0fc7-44dd-b190-64f0d4d9de46",
   "metadata": {},
   "source": [
    "Q1 create a vehicle class with an init method instance variable as name_of_vehicle,max_speed and average_of_vehicle"
   ]
  },
  {
   "cell_type": "code",
   "execution_count": 1,
   "id": "588bddea-d040-4da7-95eb-c57b97aca2e0",
   "metadata": {},
   "outputs": [],
   "source": [
    "class Vehicle:\n",
    "    def __init__(self, name_of_vehicle, max_speed, average_of_vehicle):\n",
    "        self.name_of_vehicle = name_of_vehicle\n",
    "        self.max_speed = max_speed\n",
    "        self.average_of_vehicle = average_of_vehicle   "
   ]
  },
  {
   "cell_type": "code",
   "execution_count": null,
   "id": "8e2df675-cdf8-44aa-a42d-60f927d89447",
   "metadata": {},
   "outputs": [],
   "source": []
  },
  {
   "cell_type": "markdown",
   "id": "a7d7b570-a267-4474-9645-7aba7d3c9481",
   "metadata": {},
   "source": [
    "Q2 create a child class car from the vehicle class created in Que 1, which will inherit the vehicle class create methode name seating_capicty which takes capacity as an argument and return the name of the vehicle and its seating capacity"
   ]
  },
  {
   "cell_type": "code",
   "execution_count": 2,
   "id": "7033c2a7-d634-4b10-9270-31665ed2cf56",
   "metadata": {},
   "outputs": [
    {
     "name": "stdout",
     "output_type": "stream",
     "text": [
      "Sedan has a seating capacity of 5.\n"
     ]
    }
   ],
   "source": [
    "class Vehicle:\n",
    "    def __init__(self, name_of_vehicle, max_speed, average_of_vehicle):\n",
    "        self.name_of_vehicle = name_of_vehicle\n",
    "        self.max_speed = max_speed\n",
    "        self.average_of_vehicle = average_of_vehicle\n",
    "\n",
    "class Car(Vehicle):\n",
    "    def __init__(self, name_of_vehicle, max_speed, average_of_vehicle):\n",
    "        super().__init__(name_of_vehicle, max_speed, average_of_vehicle)\n",
    "\n",
    "    def seating_capacity(self, capacity):\n",
    "        return f\"{self.name_of_vehicle} has a seating capacity of {capacity}.\"\n",
    "\n",
    "vehicle1 = Vehicle(\"Generic Vehicle\", 100, 25)\n",
    "car1 = Car(\"Sedan\", 180, 30)\n",
    "\n",
    "seating_info = car1.seating_capacity(5)\n",
    "print(seating_info)\n"
   ]
  },
  {
   "cell_type": "markdown",
   "id": "8a7b98c7-56b1-4c27-9c06-08f87295b6a7",
   "metadata": {},
   "source": [
    "Q3 what arae multiple inheritance? write a python code to demonstrate multiple inheritance."
   ]
  },
  {
   "cell_type": "markdown",
   "id": "20d0548f-9783-4bc0-a3a3-2a12f362a1df",
   "metadata": {},
   "source": [
    "class to inherit attributes and methods from more than one parent class"
   ]
  },
  {
   "cell_type": "code",
   "execution_count": 3,
   "id": "936de90d-44f1-4317-a23d-6567b6ab1876",
   "metadata": {},
   "outputs": [],
   "source": [
    "class class1:\n",
    "    def test_class1(self):\n",
    "        return\"this is a meth from class1\""
   ]
  },
  {
   "cell_type": "code",
   "execution_count": 4,
   "id": "d7e46fb6-122a-469e-bb09-8f37c2a51721",
   "metadata": {},
   "outputs": [],
   "source": [
    "class class2(class1):\n",
    "    def test_class2(self):\n",
    "        return\"this is a meth from class\""
   ]
  },
  {
   "cell_type": "code",
   "execution_count": 5,
   "id": "ec837e75-dc6a-41b7-a01d-60101a7be717",
   "metadata": {},
   "outputs": [],
   "source": [
    "class class3(class2):\n",
    "    pass"
   ]
  },
  {
   "cell_type": "code",
   "execution_count": 6,
   "id": "e8f7f0bc-7f4a-434a-ab85-8adcf532c6b5",
   "metadata": {},
   "outputs": [],
   "source": [
    "obj_class3=class3()"
   ]
  },
  {
   "cell_type": "code",
   "execution_count": 7,
   "id": "70ad706e-316f-4b7e-a27e-efcaebf34a9b",
   "metadata": {},
   "outputs": [
    {
     "data": {
      "text/plain": [
       "'this is a meth from class1'"
      ]
     },
     "execution_count": 7,
     "metadata": {},
     "output_type": "execute_result"
    }
   ],
   "source": [
    "obj_class3.test_class1()"
   ]
  },
  {
   "cell_type": "code",
   "execution_count": 8,
   "id": "35193753-1344-408c-9f88-d26010aa0032",
   "metadata": {},
   "outputs": [
    {
     "data": {
      "text/plain": [
       "'this is a meth from class'"
      ]
     },
     "execution_count": 8,
     "metadata": {},
     "output_type": "execute_result"
    }
   ],
   "source": [
    "obj_class3.test_class2()"
   ]
  },
  {
   "cell_type": "markdown",
   "id": "4986a68a-c458-4197-b352-6ee59c385fef",
   "metadata": {},
   "source": [
    "Q3 what are getter and setter in python ? create a class and create a getter and setter method in the class"
   ]
  },
  {
   "cell_type": "markdown",
   "id": "d061d466-3429-48df-90b6-953dc79806b8",
   "metadata": {},
   "source": [
    "Setter: A setter is a method used to set or modify the value of an attribute.\n",
    "Getter: A getter is a method used to retrieve the value of an attribute."
   ]
  },
  {
   "cell_type": "code",
   "execution_count": 1,
   "id": "7dea70ee-5d11-4448-b491-ab98e37a79dd",
   "metadata": {},
   "outputs": [],
   "source": [
    "class student:\n",
    "    def __init__(self,rollno, name,gender, marks):\n",
    "        self.__rollno=rollno\n",
    "        self.__name=name\n",
    "        self.gender=gender\n",
    "        self.marks=0\n",
    "    def setsmarks(self,marks):\n",
    "        self.__marks= 0 if marks < 0 else marks\n",
    "    def getmarks(self):\n",
    "        return self.__marks\n",
    "            "
   ]
  },
  {
   "cell_type": "code",
   "execution_count": 4,
   "id": "80bd24c1-cab1-4d4a-abbf-80c18bdef889",
   "metadata": {},
   "outputs": [],
   "source": [
    "s=student(6,\"gayatri\",\"female\",0)"
   ]
  },
  {
   "cell_type": "code",
   "execution_count": 5,
   "id": "201e0667-f8be-4b66-8dec-dde9f6e1699b",
   "metadata": {},
   "outputs": [
    {
     "data": {
      "text/plain": [
       "6"
      ]
     },
     "execution_count": 5,
     "metadata": {},
     "output_type": "execute_result"
    }
   ],
   "source": [
    "s._student__rollno"
   ]
  },
  {
   "cell_type": "code",
   "execution_count": 7,
   "id": "2763f757-0d99-43c6-bc2f-fc4533907d28",
   "metadata": {},
   "outputs": [],
   "source": [
    "s.setsmarks(78)"
   ]
  },
  {
   "cell_type": "code",
   "execution_count": 9,
   "id": "49ff3316-66ad-46af-bc03-a7d5608889f1",
   "metadata": {},
   "outputs": [
    {
     "data": {
      "text/plain": [
       "78"
      ]
     },
     "execution_count": 9,
     "metadata": {},
     "output_type": "execute_result"
    }
   ],
   "source": [
    "s.getmarks()"
   ]
  },
  {
   "cell_type": "markdown",
   "id": "98659282-6b63-4227-8e1a-87af822f1f25",
   "metadata": {},
   "source": [
    "Q4 what is the methode overriding in python? write a python code to demonstrate method  overriding."
   ]
  },
  {
   "cell_type": "markdown",
   "id": "e3aaaf86-1d61-4b94-b8c3-36aa081ac833",
   "metadata": {},
   "source": [
    "Method overriding in Python allows a subclass to provide a specific implementation for a method that is already defined in its superclass. When a subclass defines a method with the same name and parameters as a method in its superclass, it overrides the superclass's method, and the subclass's method is called instead when the method is invoked on an object of the subclass."
   ]
  },
  {
   "cell_type": "code",
   "execution_count": 10,
   "id": "31b6835d-1227-4a5c-a501-dde0a77b5a61",
   "metadata": {},
   "outputs": [
    {
     "name": "stdout",
     "output_type": "stream",
     "text": [
      "Animal speaks\n",
      "Dog barks\n",
      "Cat meows\n"
     ]
    }
   ],
   "source": [
    "class Animal:\n",
    "    def speak(self):\n",
    "        print(\"Animal speaks\")\n",
    "\n",
    "class Dog(Animal):\n",
    "    def speak(self):\n",
    "        print(\"Dog barks\")\n",
    "\n",
    "class Cat(Animal):\n",
    "    def speak(self):\n",
    "        print(\"Cat meows\")\n",
    "\n",
    "# Create instances of the classes\n",
    "animal = Animal()\n",
    "dog = Dog()\n",
    "cat = Cat()\n",
    "\n",
    "# Call the speak method on each object\n",
    "animal.speak()  # Output: Animal speaks\n",
    "dog.speak()     # Output: Dog barks\n",
    "cat.speak()     # Output: Cat meows\n"
   ]
  },
  {
   "cell_type": "code",
   "execution_count": 11,
   "id": "68c2dcc7-a2a8-494d-aa35-11e888a384bc",
   "metadata": {},
   "outputs": [],
   "source": [
    "class pwskils:\n",
    "     def welcome(self):\n",
    "            print(\"welcome to pwskills\")"
   ]
  },
  {
   "cell_type": "code",
   "execution_count": 12,
   "id": "f62cf25a-222b-42b9-9499-8039977d0d8f",
   "metadata": {},
   "outputs": [],
   "source": [
    "rohan=pwskils()"
   ]
  },
  {
   "cell_type": "code",
   "execution_count": 13,
   "id": "117d26d7-abcd-4d1c-ad3a-f1e01d32cfe0",
   "metadata": {},
   "outputs": [
    {
     "name": "stdout",
     "output_type": "stream",
     "text": [
      "welcome to pwskills\n"
     ]
    }
   ],
   "source": [
    "rohan.welcome()"
   ]
  },
  {
   "cell_type": "code",
   "execution_count": 14,
   "id": "a2b76b35-af45-4848-b7c2-68295cb20763",
   "metadata": {},
   "outputs": [],
   "source": [
    "gayatri=pwskils()"
   ]
  },
  {
   "cell_type": "code",
   "execution_count": 15,
   "id": "3c311cb1-116c-4eb3-b513-24f7a92d6fe2",
   "metadata": {},
   "outputs": [
    {
     "name": "stdout",
     "output_type": "stream",
     "text": [
      "welcome to pwskills\n"
     ]
    }
   ],
   "source": [
    "gayatri.welcome()"
   ]
  },
  {
   "cell_type": "code",
   "execution_count": null,
   "id": "50d3e7a9-539d-4754-9fe8-022463a7367d",
   "metadata": {},
   "outputs": [],
   "source": []
  }
 ],
 "metadata": {
  "kernelspec": {
   "display_name": "Python 3 (ipykernel)",
   "language": "python",
   "name": "python3"
  },
  "language_info": {
   "codemirror_mode": {
    "name": "ipython",
    "version": 3
   },
   "file_extension": ".py",
   "mimetype": "text/x-python",
   "name": "python",
   "nbconvert_exporter": "python",
   "pygments_lexer": "ipython3",
   "version": "3.10.8"
  }
 },
 "nbformat": 4,
 "nbformat_minor": 5
}
