{
 "cells": [
  {
   "cell_type": "markdown",
   "id": "6411b084-69b6-4b7b-9467-ee21211bc887",
   "metadata": {},
   "source": [
    "Q1 whatis abstraction in oops? explain with an example."
   ]
  },
  {
   "cell_type": "markdown",
   "id": "824ce9b3-aad6-47e6-9148-411018837ac6",
   "metadata": {},
   "source": [
    "Abstraction is one of the fundamental principles of Object-Oriented Programming (OOP). It involves the concept of hiding complex implementation details and showing only the necessary features of an object to the outside world. Abstraction allows you to create a simplified representation of an object, which makes it easier to understand and work with in a program."
   ]
  },
  {
   "cell_type": "code",
   "execution_count": 3,
   "id": "8f7d8da0-356a-4f83-a737-a7490ec5d8d9",
   "metadata": {},
   "outputs": [],
   "source": [
    "import abc\n",
    "class pw:\n",
    "    @abc.abstractmethod\n",
    "    def student_details(self):\n",
    "        pass\n",
    "    @abc.abstractmethod\n",
    "    def student_assigment(self):\n",
    "        pass\n",
    "    @abc.abstractmethod\n",
    "    def student_marks(self):\n",
    "        pass"
   ]
  },
  {
   "cell_type": "code",
   "execution_count": 4,
   "id": "b46fed2e-8c3b-4080-898f-28534b75eaee",
   "metadata": {},
   "outputs": [],
   "source": [
    "class student_details(pw):\n",
    "    def student_details(self):\n",
    "        return \"this is a meath for teaking students details\"\n",
    "    def student_assigment(self):\n",
    "        return \"this is a meath for assing details for a perticult student\""
   ]
  },
  {
   "cell_type": "code",
   "execution_count": null,
   "id": "20d7facc-9bc1-438e-98aa-3c80390c7fc3",
   "metadata": {},
   "outputs": [],
   "source": [
    "class student_details(pw):\n",
    "    def student_details(self):\n",
    "        return \"this is a meath for teaking students details\"\n",
    "    def student_assigment(self):\n",
    "        return \"this is a meath for assing details for a perticult student\""
   ]
  },
  {
   "cell_type": "code",
   "execution_count": 5,
   "id": "a444e6ce-db32-4519-84a0-d4146a78667b",
   "metadata": {},
   "outputs": [],
   "source": [
    "class data_science_masters(pw):\n",
    "    def student_details(self):\n",
    "        return \"this will return a student details for data science masters\"\n",
    "    def student_assigment(self):\n",
    "        return \"this will give a student assigment fetailed for data science  masters\"\n",
    "    "
   ]
  },
  {
   "cell_type": "code",
   "execution_count": 6,
   "id": "f281343c-4028-4c3c-b129-f77b72bb5a88",
   "metadata": {},
   "outputs": [
    {
     "data": {
      "text/plain": [
       "'this will return a student details for data science masters'"
      ]
     },
     "execution_count": 6,
     "metadata": {},
     "output_type": "execute_result"
    }
   ],
   "source": [
    "data=data_science_masters()\n",
    "data.student_details()"
   ]
  },
  {
   "cell_type": "markdown",
   "id": "1a3cce97-224d-42a8-8b12-1283688e0368",
   "metadata": {},
   "source": [
    "Q2 Differentiate between abstraction and Encapsulation.Explain with an example."
   ]
  },
  {
   "cell_type": "markdown",
   "id": "ef02210b-994f-4c75-b226-d309b40dd4de",
   "metadata": {},
   "source": [
    "Abstraction and encapsulation are two fundamental principles in Object-Oriented Programming (OOP), but they serve different purposes and focus on different aspects of designing and organizing code.\n"
   ]
  },
  {
   "cell_type": "markdown",
   "id": "82d762ec-69a3-4d5c-81b8-2fa045f919f4",
   "metadata": {},
   "source": [
    "Abstraction:\n",
    "\n",
    "Purpose: Abstraction is about simplifying complex systems by representing the essential features and hiding the unnecessary details. It focuses on the \"what\" of an object's behavior and properties, not the \"how.\"\n",
    "Mechanism: Achieved through abstract classes and interfaces, defining the structure and a set of methods that concrete classes must implement.\n",
    "\n",
    "Encapsulation:\n",
    "\n",
    "Purpose: Encapsulation is about bundling data (attributes) and the methods (functions) that operate on that data into a single unit called a class. It restricts direct access to an object's data and allows controlled access through methods, ensuring data integrity and security.\n",
    "Mechanism: Achieved by defining private or protected attributes and using getters and setters to access or modify those attributes."
   ]
  },
  {
   "cell_type": "code",
   "execution_count": 7,
   "id": "7d6641c0-75db-41c3-a994-3de591ae89e5",
   "metadata": {},
   "outputs": [],
   "source": [
    "class car:\n",
    "    def __init__(self,year,make,model,speed):\n",
    "        self.__year=year\n",
    "        self.__make=make\n",
    "        self.__model=model\n",
    "        self.__speed=0\n",
    "    def setspeed(self,speed):\n",
    "        self.__speed= 0 if speed < 0 else speed\n",
    "    def getspeed(self):\n",
    "        return self.__speed"
   ]
  },
  {
   "cell_type": "code",
   "execution_count": 9,
   "id": "d97a4caf-8d44-47cc-9ce8-a2d304bfdee9",
   "metadata": {},
   "outputs": [],
   "source": [
    "c=car(2021,\"stuednt\",\"invova\",14)"
   ]
  },
  {
   "cell_type": "code",
   "execution_count": 10,
   "id": "da60b88c-2717-4f54-b107-06598bfcecc8",
   "metadata": {},
   "outputs": [
    {
     "data": {
      "text/plain": [
       "2021"
      ]
     },
     "execution_count": 10,
     "metadata": {},
     "output_type": "execute_result"
    }
   ],
   "source": [
    "c._car__year"
   ]
  },
  {
   "cell_type": "markdown",
   "id": "e1d7465b-5622-4b21-bd00-a864f5811f86",
   "metadata": {},
   "source": [
    "Q3 what is abc module in python ? why is it used."
   ]
  },
  {
   "cell_type": "markdown",
   "id": "984f8eee-8373-42d5-b2d4-b28c423ef87a",
   "metadata": {},
   "source": [
    "The abc module in Python stands for \"Abstract Base Classes.\" It is a module in the Python standard library that provides a way to define abstract base classes and abstract methods. Abstract base classes are classes that cannot be instantiated themselves but are meant to be subclassed by other classes. They are often used to define a common interface or a set of methods that must be implemented by concrete subclasses."
   ]
  },
  {
   "cell_type": "markdown",
   "id": "eeccd282-0de5-4407-80d3-4ee2f694ae38",
   "metadata": {},
   "source": [
    "The abc module is used for several purposes:\n",
    "\n",
    "Defining Abstract Base Classes (ABCs): You can use the abc module to define abstract base classes by subclassing abc.ABC. An abstract base class defines a common interface or a set of methods that must be implemented by any concrete subclass. This helps ensure that certain methods are present in all subclasses, promoting consistency and adherence to a specific interface.\n",
    "\n",
    "Enforcing Method Implementation: Abstract methods defined within an abstract base class using the @abstractmethod decorator must be implemented by concrete subclasses. If a subclass does not implement these abstract methods, it will raise a TypeError at runtime, making it clear that the implementation is incomplete.\n",
    "\n",
    "Documentation and Design: Abstract base classes serve as a form of documentation for classes that are meant to conform to a particular interface. They make the expected behavior of a class more explicit and help developers understand the required methods and properties."
   ]
  },
  {
   "cell_type": "markdown",
   "id": "3e287eb8-d30a-4ca2-848a-a849d04ea392",
   "metadata": {},
   "source": [
    "Q 4 how can we achive data abstraction?"
   ]
  },
  {
   "cell_type": "markdown",
   "id": "2fd8655e-899f-452e-ba84-35b9a0e0d7a2",
   "metadata": {},
   "source": [
    "Data abstraction in programming is achieved by hiding the complex implementation details of data and providing a simplified interface for interacting with that data. It involves exposing only the necessary information and operations while hiding the underlying complexity. Here are some common techniques to achieve data abstraction in programming:\n",
    "\n",
    "Encapsulation (using classes and objects): Encapsulation is a fundamental concept in Object-Oriented Programming (OOP). It involves bundling data (attributes or properties) and the methods (functions) that operate on that data into a single unit called a class. The class defines an interface through its methods, and the data is typically hidden or protected (private or protected attributes), preventing direct access. Users of the class interact with the data and methods through well-defined interfaces.\n",
    "\n",
    "Abstract Data Types (ADTs): ADTs provide a high-level interface for a data structure, hiding the underlying implementation details. Users of ADTs can work with data structures like stacks, queues, or lists without needing to understand how they are implemented.\n",
    "\n",
    "Using Functions: In languages that don't support classes, you can achieve data abstraction through well-defined functions that operate on data structures. By providing a clear interface through function names and parameters, you can abstract the underlying data representation.\n",
    "Using Modules: In Python, modules can be used to abstract and organize data and functions. Modules group related data and functions together and provide a namespace for them, allowing you to organize and abstract your code effectively.\n",
    "\n",
    "Access Control: Many programming languages provide mechanisms for controlling access to data, such as private and protected keywords in classes, or by using access modifiers. By controlling access to data, you can hide implementation details and expose only the necessary information.\n",
    "\n",
    "Documentation: Comprehensive documentation and comments in your code can help achieve data abstraction by explaining how to use a particular data structure or module without diving into its implementation details."
   ]
  },
  {
   "cell_type": "code",
   "execution_count": null,
   "id": "3e5bb3e7-c67e-4e21-9cbc-55472c54e270",
   "metadata": {},
   "outputs": [],
   "source": [
    "Q5.can we create an instance of an abstract class ? Explain yor answer"
   ]
  },
  {
   "cell_type": "code",
   "execution_count": null,
   "id": "59494abb-c8e5-4f56-b768-6496820502e2",
   "metadata": {},
   "outputs": [],
   "source": [
    "n Python, you cannot create an instance of an abstract class directly. Attempting to create an instance of an abstract class will result in a TypeError. Abstract classes are meant to be subclassed, and they typically contain one or more abstract methods that must be implemented by their concrete subclasses. Abstract methods are placeholders for functionality and have no implementation in the abstract class."
   ]
  },
  {
   "cell_type": "code",
   "execution_count": 12,
   "id": "6954008a-2787-4927-bc9a-559e7f562949",
   "metadata": {},
   "outputs": [],
   "source": [
    "from abc import ABC, abstractmethod\n",
    "class Shape(ABC):\n",
    "    @abstractmethod\n",
    "    def area(self):\n",
    "        pass"
   ]
  },
  {
   "cell_type": "code",
   "execution_count": 13,
   "id": "38621b98-f34b-486f-b8f3-78a2e5b944a8",
   "metadata": {},
   "outputs": [
    {
     "name": "stdout",
     "output_type": "stream",
     "text": [
      "Circle Area: 78.5\n",
      "Rectangle Area: 24\n"
     ]
    }
   ],
   "source": [
    "class Circle(Shape):\n",
    "    def __init__(self, radius):\n",
    "        self.radius = radius\n",
    "\n",
    "    def area(self):\n",
    "        return 3.14 * self.radius * self.radius\n",
    "\n",
    "class Rectangle(Shape):\n",
    "    def __init__(self, width, height):\n",
    "        self.width = width\n",
    "        self.height = height\n",
    "\n",
    "    def area(self):\n",
    "        return self.width * self.height\n",
    "\n",
    "# Creating instances of concrete subclasses\n",
    "circle = Circle(5)\n",
    "rectangle = Rectangle(4, 6)\n",
    "\n",
    "print(\"Circle Area:\", circle.area())\n",
    "print(\"Rectangle Area:\", rectangle.area())\n"
   ]
  },
  {
   "cell_type": "code",
   "execution_count": null,
   "id": "daa6a488-51c0-45c7-979a-202c81906f8b",
   "metadata": {},
   "outputs": [],
   "source": []
  }
 ],
 "metadata": {
  "kernelspec": {
   "display_name": "Python 3 (ipykernel)",
   "language": "python",
   "name": "python3"
  },
  "language_info": {
   "codemirror_mode": {
    "name": "ipython",
    "version": 3
   },
   "file_extension": ".py",
   "mimetype": "text/x-python",
   "name": "python",
   "nbconvert_exporter": "python",
   "pygments_lexer": "ipython3",
   "version": "3.10.8"
  }
 },
 "nbformat": 4,
 "nbformat_minor": 5
}
