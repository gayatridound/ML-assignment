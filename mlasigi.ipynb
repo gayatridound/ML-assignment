{
 "cells": [
  {
   "cell_type": "markdown",
   "id": "56adf696-6e5e-4713-b920-ccd657225c40",
   "metadata": {},
   "source": [
    "Q1 Explain the followig with an example:\n",
    "1.Artifical inteligence \n",
    "2.Machine learning \n",
    "3.Deep learning"
   ]
  },
  {
   "cell_type": "markdown",
   "id": "ac8bf70d-fc77-4856-bd5f-51870e4536ba",
   "metadata": {},
   "source": [
    "1.Artificial Intelligence (AI):\n",
    "Explanation: Artificial Intelligence refers to the development of computer systems that can perform tasks that typically require human intelligence. These tasks include speech recognition, problem-solving, learning, and decision-making.\n",
    "Example: An AI-powered virtual assistant\n",
    "\n",
    "2.Machine Learning:\n",
    "Explanation: Machine Learning is a subset of artificial intelligence that involves the use of algorithms and statistical models to enable computers to improve their performance on a task without being explicitly programmed. It focuses on the development of systems that can learn and adapt from experience.\n",
    "Example: In email filtering\n",
    "\n",
    "3.Deep Learning:\n",
    "Explanation: Deep Learning is a specific type of machine learning that uses neural networks with multiple layers (deep neural networks) to model and solve complex problems. Deep learning has been particularly successful in tasks such as image and speech recognition.\n",
    "Example: Deep learning is used in facial recognition technology"
   ]
  },
  {
   "cell_type": "markdown",
   "id": "b702251f-c502-49a6-a992-e353f38d457b",
   "metadata": {},
   "source": [
    "Q2 what is superised learning ? List some example of supervised learning."
   ]
  },
  {
   "cell_type": "markdown",
   "id": "e31ef6b6-a343-4af0-b2af-09dd22def675",
   "metadata": {},
   "source": [
    "Supervised learning is a type of machine learning where the algorithm is trained on a labeled dataset, which means that the input data used for training is paired with the corresponding correct output. The algorithm learns from this labeled dataset and makes predictions or classifications when new, unseen data is provided.\n",
    "\n",
    "Examples of supervised learning tasks include: 1.Image Classification: 2.Speech Recognition: 3.Text Classification: 4.Predictive Analytics: 5.Medical Diagnosis: 6.Fraud Detection:"
   ]
  },
  {
   "cell_type": "markdown",
   "id": "cff2a2c4-f9c6-4210-9bd1-1b75e9b899ac",
   "metadata": {},
   "source": [
    "Q3.what is unsupervised learning? list some examples of unsupervised learning."
   ]
  },
  {
   "cell_type": "markdown",
   "id": "2f178351-8dc1-4755-bad6-bb04ff493f74",
   "metadata": {},
   "source": [
    "Unsupervised learning is a type of machine learning where the algorithm is given input data without explicit output labels. The system tries to find patterns, relationships, or structures within the data without predefined categories. The objective is often to explore the inherent structure of the data, discover hidden patterns, or group similar data points together.\n",
    "\n",
    "Examples of unsupervised learning tasks include:\n",
    "\n",
    "Clustering\n",
    "1.Association Rule Learning\n",
    "2.Density Estimation\n",
    "3.Anomaly Detection\n",
    "4.Generative Model\n",
    "5.Hierarchical Clstering"
   ]
  },
  {
   "cell_type": "markdown",
   "id": "4e5e145e-c93b-4475-b38d-65b73248805a",
   "metadata": {},
   "source": [
    "Q4.what is difference between AI,ML,DL,DS?"
   ]
  },
  {
   "cell_type": "markdown",
   "id": "d9b6bfe3-94e6-48ec-be09-725d16f06e03",
   "metadata": {},
   "source": [
    "Artificial Intelligence (AI):\n",
    "\n",
    "Definition: AI refers to the development of computer systems that can perform tasks that typically require human intelligence.\n",
    "Scope: It's a broader concept that encompasses various approaches, including rule-based systems, expert systems, and machine learning.\n",
    "Applications: AI can be applied in diverse fields, such as natural language processing, computer vision, robotics, and problem-solving.\n",
    "Machine Learning (ML):\n",
    "\n",
    "Definition: ML is a subset of AI that focuses on the development of algorithms and statistical models that enable computers to improve their performance on a task through experience (data).\n",
    "Scope: ML involves the creation of models that can learn patterns from data without being explicitly programmed for a particular task.\n",
    "Applications: ML is widely used in tasks like predictive analytics, image and speech recognition, recommendation systems, and fraud detection.\n",
    "Deep Learning (DL):\n",
    "\n",
    "Definition: DL is a specialized subset of ML that involves neural networks with multiple layers (deep neural networks). It aims to automatically learn hierarchical representations of data.\n",
    "Scope: DL excels at feature learning and abstraction, making it suitable for tasks like image and speech recognition.\n",
    "Applications: DL has been particularly successful in computer vision, natural language processing, and speech recognition.\n",
    "Data Science (DS):\n",
    "\n",
    "Definition: DS is a multidisciplinary field that involves extracting insights and knowledge from structured and unstructured data.\n",
    "Scope: DS encompasses a range of techniques, including statistical analysis, machine learning, data engineering, and visualization, to derive meaningful information from data.\n",
    "Applications: DS is used in various industries for tasks like data mining, predictive modeling, and business analytics."
   ]
  },
  {
   "cell_type": "markdown",
   "id": "621c9627-4d8b-44fc-9cf8-3dcbbe7b869e",
   "metadata": {},
   "source": [
    "Q5.What are the main differance between supervised ,unsupervised and semi supervised learning?"
   ]
  },
  {
   "cell_type": "markdown",
   "id": "56aea36f-b8db-469b-b55a-bb7b8d20146c",
   "metadata": {},
   "source": [
    "Supervised learning requires a labeled training dataset, where the algorithm learns the mapping between inputs and corresponding outputs.\n",
    "\n",
    "Unsupervised learning works with unlabeled data and seeks to discover patterns, structures, or relationships within the data without explicit guidance.\n",
    "\n",
    "Semi-supervised learning combines both labeled and unlabeled data to leverage the advantages of having some labeled examples while being able to generalize to the larger unlabeled dataset."
   ]
  },
  {
   "cell_type": "markdown",
   "id": "f596442d-6e9b-4e0d-915a-845e84dd8d1e",
   "metadata": {},
   "source": [
    "Q6 What is train,test ,and validation split?Explain the importance of each them."
   ]
  },
  {
   "cell_type": "markdown",
   "id": "e40a86a8-bd8a-42c8-9527-f3b673b98108",
   "metadata": {},
   "source": [
    "Training Set:\n",
    "Purpose: The training set is used to train the machine learning model. The algorithm learns the patterns and relationships within the data by adjusting its parameters based on this labeled dataset.\n",
    "\n",
    "Validation Set:\n",
    "Purpose: The validation set is used during the training process to fine-tune the model's hyperparameters and prevent overfitting.\n",
    "\n",
    "Test Set:\n",
    "Purpose: The test set is used to evaluate the final performance of the trained model. It serves as an unbiased evaluation, providing an estimate of how well the model is likely to perform on new, unseen data.\n",
    "\n",
    "Importance of Train, Validation, and Test Split:\n",
    "\n",
    "Preventing Overfitting: The training set allows the model to learn patterns in the data, while the validation set helps prevent overfitting by tuning hyperparameters based on performance metrics on new, unseen data.\n",
    "\n",
    "Generalization Assessment: The test set provides an independent evaluation of the model's generalization performance, indicating how well it is likely to perform on real-world, unseen data.\n",
    "\n",
    "Model Selection: The validation set aids in the selection of the best-performing model by comparing different models' performances on the validation data.\n",
    "\n",
    "Unbiased Performance Evaluation: Using a separate test set ensures an unbiased evaluation of the model's performance, providing a more realistic estimate of its effectiveness in practical applications."
   ]
  },
  {
   "cell_type": "code",
   "execution_count": null,
   "id": "c2f20a30-5e8a-4dd0-8f68-36494976ec4a",
   "metadata": {},
   "outputs": [],
   "source": []
  },
  {
   "cell_type": "markdown",
   "id": "a4b9506e-49a5-4248-889a-2dbdf62cbfb6",
   "metadata": {},
   "source": [
    "Q7.How can unsupervised learning be used  in anomaly detection?"
   ]
  },
  {
   "cell_type": "markdown",
   "id": "48dbc62d-3cdf-49a9-aefd-99651277d7f9",
   "metadata": {},
   "source": [
    "In unsupervised anomaly detection, it's important to note that the absence of labeled anomalies for training makes it challenging to precisely define what constitutes an anomaly. The effectiveness of these methods depends on the characteristics of the data and the nature of the anomalies present in the dataset. It often involves a trade-off between false positives and false negatives, and tuning the model parameters is crucial for optimal performance."
   ]
  },
  {
   "cell_type": "markdown",
   "id": "a252c5d5-b657-49ee-8780-3acec39ef3dc",
   "metadata": {},
   "source": [
    "Q8.List down some commonly used supervised learning algorithm and unsupervised learning algorithm."
   ]
  },
  {
   "cell_type": "raw",
   "id": "43d48ce9-2bf8-4a37-a742-054e33a197fa",
   "metadata": {},
   "source": [
    "Supervised Learning Algorithms:\n",
    "\n",
    "1.Linear Regression\n",
    "2.Logistic Regression\n",
    "3.Decision Trees\n",
    "4.Random Forest\n",
    "5.Support Vector Machines (SVM)\n",
    "6.K-Nearest Neighbors (KNN)\n",
    "7.Naive Bayes\n",
    "8.Neural Networks\n",
    "9.Gradient Boosting Algorithms (e.g., XGBoost, LightGBM)\n",
    "10.Linear Discriminant Analysis (LDA)\n",
    "---------Unsupervised Learning Algorithms------------\n",
    "\n",
    "1.K-Means Clustering\n",
    "2.Hierarchical Clustering data points.\n",
    "3.DBSCAN (Density-Based Spatial Clustering of Applications with Noise)\n",
    "4.Gaussian Mixture Models (GMM)\n",
    "5.PCA (Principal Component Analysis)\n",
    "6.Isolation Forests\n",
    "7.One-Class SVM (Support Vector Machine)\n",
    "8.Autoencoders\n",
    "9.Association Rule Mining (e.g., Apriori)\n",
    "10.t-Distributed Stochastic Neighbor Embedding (t-SNE)"
   ]
  },
  {
   "cell_type": "code",
   "execution_count": null,
   "id": "64c4a934-7b01-4396-be60-762588d9f969",
   "metadata": {},
   "outputs": [],
   "source": []
  }
 ],
 "metadata": {
  "kernelspec": {
   "display_name": "Python 3 (ipykernel)",
   "language": "python",
   "name": "python3"
  },
  "language_info": {
   "codemirror_mode": {
    "name": "ipython",
    "version": 3
   },
   "file_extension": ".py",
   "mimetype": "text/x-python",
   "name": "python",
   "nbconvert_exporter": "python",
   "pygments_lexer": "ipython3",
   "version": "3.10.8"
  },
  "toc-showmarkdowntxt": true
 },
 "nbformat": 4,
 "nbformat_minor": 5
}
